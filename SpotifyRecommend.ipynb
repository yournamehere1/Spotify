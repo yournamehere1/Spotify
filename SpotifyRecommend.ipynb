{
 "cells": [
  {
   "cell_type": "code",
   "execution_count": 1,
   "metadata": {},
   "outputs": [],
   "source": [
    "import numpy as np\n",
    "import pandas as pd\n",
    "from sklearn.feature_extraction import text\n",
    "from sklearn.metrics.pairwise import cosine_similarity"
   ]
  },
  {
   "cell_type": "markdown",
   "metadata": {},
   "source": [
    "Load the Data in"
   ]
  },
  {
   "cell_type": "code",
   "execution_count": 2,
   "metadata": {},
   "outputs": [
    {
     "name": "stdout",
     "output_type": "stream",
     "text": [
      "   Index  Highest Charting Position  Number of Times Charted  \\\n",
      "0      1                          1                        8   \n",
      "1      2                          2                        3   \n",
      "2      3                          1                       11   \n",
      "3      4                          3                        5   \n",
      "4      5                          5                        1   \n",
      "\n",
      "  Week of Highest Charting                          Song Name     Streams  \\\n",
      "0   2021-07-23--2021-07-30                            Beggin'  48,633,449   \n",
      "1   2021-07-23--2021-07-30          STAY (with Justin Bieber)  47,248,719   \n",
      "2   2021-06-25--2021-07-02                           good 4 u  40,162,559   \n",
      "3   2021-07-02--2021-07-09                         Bad Habits  37,799,456   \n",
      "4   2021-07-23--2021-07-30  INDUSTRY BABY (feat. Jack Harlow)  33,948,454   \n",
      "\n",
      "           Artist Artist Followers                 Song ID  \\\n",
      "0        Måneskin          3377762  3Wrjm47oTz2sjIgck11l5e   \n",
      "1   The Kid LAROI          2230022  5HCyWlXZPP0y6Gqq8TgA20   \n",
      "2  Olivia Rodrigo          6266514  4ZtFanR9U6ndgddUvNcjcG   \n",
      "3      Ed Sheeran         83293380  6PQ88X9TkUIAUIZJHW2upE   \n",
      "4       Lil Nas X          5473565  27NovPIUIRrOZoCHxABJwK   \n",
      "\n",
      "                                    Genre  ... Danceability Energy Loudness  \\\n",
      "0  ['indie rock italiano', 'italian pop']  ...        0.714    0.8   -4.808   \n",
      "1                  ['australian hip hop']  ...        0.591  0.764   -5.484   \n",
      "2                                 ['pop']  ...        0.563  0.664   -5.044   \n",
      "3                       ['pop', 'uk pop']  ...        0.808  0.897   -3.712   \n",
      "4           ['lgbtq+ hip hop', 'pop rap']  ...        0.736  0.704   -7.409   \n",
      "\n",
      "  Speechiness Acousticness Liveness    Tempo Duration (ms) Valence  Chord  \n",
      "0      0.0504        0.127    0.359  134.002        211560   0.589      B  \n",
      "1      0.0483       0.0383    0.103  169.928        141806   0.478  C#/Db  \n",
      "2       0.154        0.335   0.0849  166.928        178147   0.688      A  \n",
      "3      0.0348       0.0469    0.364  126.026        231041   0.591      B  \n",
      "4      0.0615       0.0203   0.0501  149.995        212000   0.894  D#/Eb  \n",
      "\n",
      "[5 rows x 23 columns]\n"
     ]
    }
   ],
   "source": [
    "data = pd.read_csv(\"spotify_dataset.csv\")\n",
    "print(data.head())"
   ]
  },
  {
   "cell_type": "markdown",
   "metadata": {},
   "source": [
    "Check for NAs"
   ]
  },
  {
   "cell_type": "code",
   "execution_count": 3,
   "metadata": {},
   "outputs": [
    {
     "name": "stdout",
     "output_type": "stream",
     "text": [
      "Index                        0\n",
      "Highest Charting Position    0\n",
      "Number of Times Charted      0\n",
      "Week of Highest Charting     0\n",
      "Song Name                    0\n",
      "Streams                      0\n",
      "Artist                       0\n",
      "Artist Followers             0\n",
      "Song ID                      0\n",
      "Genre                        0\n",
      "Release Date                 0\n",
      "Weeks Charted                0\n",
      "Popularity                   0\n",
      "Danceability                 0\n",
      "Energy                       0\n",
      "Loudness                     0\n",
      "Speechiness                  0\n",
      "Acousticness                 0\n",
      "Liveness                     0\n",
      "Tempo                        0\n",
      "Duration (ms)                0\n",
      "Valence                      0\n",
      "Chord                        0\n",
      "dtype: int64\n"
     ]
    }
   ],
   "source": [
    "print(data.isnull().sum())"
   ]
  },
  {
   "cell_type": "markdown",
   "metadata": {},
   "source": [
    "Find relevant column names and drop others"
   ]
  },
  {
   "cell_type": "code",
   "execution_count": 4,
   "metadata": {},
   "outputs": [
    {
     "name": "stdout",
     "output_type": "stream",
     "text": [
      "Index(['Index', 'Highest Charting Position', 'Number of Times Charted',\n",
      "       'Week of Highest Charting', 'Song Name', 'Streams', 'Artist',\n",
      "       'Artist Followers', 'Song ID', 'Genre', 'Release Date', 'Weeks Charted',\n",
      "       'Popularity', 'Danceability', 'Energy', 'Loudness', 'Speechiness',\n",
      "       'Acousticness', 'Liveness', 'Tempo', 'Duration (ms)', 'Valence',\n",
      "       'Chord'],\n",
      "      dtype='object')\n"
     ]
    }
   ],
   "source": [
    "print(data.columns)"
   ]
  },
  {
   "cell_type": "code",
   "execution_count": 5,
   "metadata": {},
   "outputs": [
    {
     "name": "stdout",
     "output_type": "stream",
     "text": [
      "                           Song Name     Streams          Artist  \\\n",
      "0                            Beggin'  48,633,449        Måneskin   \n",
      "1          STAY (with Justin Bieber)  47,248,719   The Kid LAROI   \n",
      "2                           good 4 u  40,162,559  Olivia Rodrigo   \n",
      "3                         Bad Habits  37,799,456      Ed Sheeran   \n",
      "4  INDUSTRY BABY (feat. Jack Harlow)  33,948,454       Lil Nas X   \n",
      "\n",
      "                                    Genre  \n",
      "0  ['indie rock italiano', 'italian pop']  \n",
      "1                  ['australian hip hop']  \n",
      "2                                 ['pop']  \n",
      "3                       ['pop', 'uk pop']  \n",
      "4           ['lgbtq+ hip hop', 'pop rap']  \n"
     ]
    }
   ],
   "source": [
    "data = data[[\"Song Name\", \"Streams\", \"Artist\", \"Genre\"]]\n",
    "print(data.head())"
   ]
  },
  {
   "cell_type": "markdown",
   "metadata": {},
   "source": [
    "Here I will use Genre to determine my recommendation and use cosine similarity"
   ]
  },
  {
   "cell_type": "code",
   "execution_count": 6,
   "metadata": {},
   "outputs": [],
   "source": [
    "feature = data[\"Genre\"].tolist()\n",
    "tfidf = text.TfidfVectorizer(input=feature, stop_words=\"english\")\n",
    "tfidf_matrix = tfidf.fit_transform(feature)\n",
    "similarity = cosine_similarity(tfidf_matrix)\n"
   ]
  },
  {
   "cell_type": "markdown",
   "metadata": {},
   "source": [
    "Use song name as an index to later offer recomendations"
   ]
  },
  {
   "cell_type": "code",
   "execution_count": 9,
   "metadata": {},
   "outputs": [],
   "source": [
    "indices = pd.Series(data.index,\n",
    "index=data[\"Song Name\"]).drop_duplicates()"
   ]
  },
  {
   "cell_type": "markdown",
   "metadata": {},
   "source": [
    "Create recomendation function"
   ]
  },
  {
   "cell_type": "code",
   "execution_count": 10,
   "metadata": {},
   "outputs": [
    {
     "name": "stdout",
     "output_type": "stream",
     "text": [
      "237                          Wasting Time ( feat. Drake )\n",
      "571                    Gravity (feat. Tyler, The Creator)\n",
      "1004                                          Hit My Line\n",
      "927                            Gifted (feat. Roddy Ricch)\n",
      "822                                            THE SCOTTS\n",
      "1040                                               Lalala\n",
      "1148                                            Daechwita\n",
      "104             Lemonade (feat. Gunna, Don Toliver & NAV)\n",
      "219     His & Hers (feat. Don Toliver, Lil Uzi Vert & ...\n",
      "858     Lemonade (Feat. Roddy Ricch & Don Toliver) [Re...\n",
      "Name: Song Name, dtype: object 237                           Brent Faiyaz\n",
      "571                  Brent Faiyaz, DJ Dahi\n",
      "1004                                 Logic\n",
      "927                                 Cordae\n",
      "822     THE SCOTTS, Travis Scott, Kid Cudi\n",
      "1040                            Y2K, bbno$\n",
      "1148                               Agust D\n",
      "104                         Internet Money\n",
      "219                         Internet Money\n",
      "858                         Internet Money\n",
      "Name: Artist, dtype: object\n",
      "None\n"
     ]
    }
   ],
   "source": [
    "def spotify_recommendation(song, similarity = similarity):\n",
    "    index = indices[song]\n",
    "    similarity_scores = list(enumerate(similarity[index]))\n",
    "    similarity_scores = sorted(similarity_scores, key=lambda x: x[1], reverse=True)\n",
    "    similarity_scores = similarity_scores[0:10]\n",
    "    songindices = [i[0] for i in similarity_scores]\n",
    "    return print(data[\"Song Name\"].iloc[songindices], data[\"Artist\"].iloc[songindices])\n",
    "  \n",
    "\n",
    "print(spotify_recommendation(\"Wasting Time ( feat. Drake )\"))"
   ]
  }
 ],
 "metadata": {
  "kernelspec": {
   "display_name": "Python 3.10.2 64-bit",
   "language": "python",
   "name": "python3"
  },
  "language_info": {
   "codemirror_mode": {
    "name": "ipython",
    "version": 3
   },
   "file_extension": ".py",
   "mimetype": "text/x-python",
   "name": "python",
   "nbconvert_exporter": "python",
   "pygments_lexer": "ipython3",
   "version": "3.10.2"
  },
  "orig_nbformat": 4,
  "vscode": {
   "interpreter": {
    "hash": "aee8b7b246df8f9039afb4144a1f6fd8d2ca17a180786b69acc140d282b71a49"
   }
  }
 },
 "nbformat": 4,
 "nbformat_minor": 2
}
